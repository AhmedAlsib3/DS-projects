{
 "cells": [
  {
   "cell_type": "markdown",
   "metadata": {},
   "source": [
    "# LLM-Powered SQL Query Assistant using Llama and LangChain\n",
    "\n",
    "**Objectives:**\n",
    "1. Create a SQL agent that can query a database\n",
    "2. Use Langsmith to trace the agent\n",
    "3. Use Langsmith to evaluate the agent\n",
    "3. Evaluate the agent with metrics?\n",
    "4. Visualise the output with dataframes, plots\n",
    "5. Create a chat interface for the agent"
   ]
  },
  {
   "cell_type": "markdown",
   "metadata": {},
   "source": [
    "## Install Dependencies\n"
   ]
  },
  {
   "cell_type": "code",
   "execution_count": 1,
   "metadata": {},
   "outputs": [],
   "source": [
    "# !pip install -U langchain langchain_community langchain-ollama langchain_huggingface faiss-cpu pymysql pandas plotly nbformat gradio"
   ]
  },
  {
   "cell_type": "markdown",
   "metadata": {},
   "source": [
    "## Import Ollama and set up LangSmith Integration\n"
   ]
  },
  {
   "cell_type": "code",
   "execution_count": 2,
   "metadata": {},
   "outputs": [
    {
     "name": "stdout",
     "output_type": "stream",
     "text": [
      "LANGCHAIN_TRACING_V2: true\n",
      "LANGCHAIN_API_KEY: ***\n",
      "LANGCHAIN_PROJECT: pr-ajar-upward-57\n"
     ]
    }
   ],
   "source": [
    "# Environment variables must be set before agent is created\n",
    "from dotenv import load_dotenv\n",
    "import os\n",
    "\n",
    "# Load environment variables from .env file\n",
    "env_path = './.env'\n",
    "load_dotenv(dotenv_path=env_path)\n",
    "\n",
    "# Verify the environment variables are set\n",
    "print(\"LANGCHAIN_TRACING_V2:\", os.getenv(\"LANGCHAIN_TRACING_V2\"))\n",
    "print(\"LANGCHAIN_API_KEY:\", \"***\" if os.getenv(\"LANGCHAIN_API_KEY\") else \"Not set\")\n",
    "print(\"LANGCHAIN_PROJECT:\", os.getenv(\"LANGCHAIN_PROJECT\"))"
   ]
  },
  {
   "cell_type": "code",
   "execution_count": 3,
   "metadata": {},
   "outputs": [
    {
     "data": {
      "text/plain": [
       "AIMessage(content=\"A classic greeting! Hello to you as well! It's great to meet you. Is there something on your mind that you'd like to chat about, or are you just saying hello? Either way, I'm here to listen and help if I can!\", additional_kwargs={}, response_metadata={'model': 'llama3', 'created_at': '2024-12-29T12:28:15.7411898Z', 'done': True, 'done_reason': 'stop', 'total_duration': 1451104400, 'load_duration': 24450200, 'prompt_eval_count': 14, 'prompt_eval_duration': 5000000, 'eval_count': 53, 'eval_duration': 1419000000, 'message': Message(role='assistant', content='', images=None, tool_calls=None)}, id='run-b0cde76e-c44d-4e16-8e8c-7eff46c68f77-0', usage_metadata={'input_tokens': 14, 'output_tokens': 53, 'total_tokens': 67})"
      ]
     },
     "execution_count": 3,
     "metadata": {},
     "output_type": "execute_result"
    }
   ],
   "source": [
    "# Import Ollama and test connection\n",
    "from langchain_ollama import ChatOllama\n",
    "\n",
    "# Create agent\n",
    "llm = ChatOllama(model='llama3', base_url='http://localhost:11434')\n",
    "llm.invoke('Hello, world!') # The run should be traced and appear in LangSmith"
   ]
  },
  {
   "cell_type": "markdown",
   "metadata": {},
   "source": [
    "## Create SQL agent"
   ]
  },
  {
   "cell_type": "code",
   "execution_count": 4,
   "metadata": {},
   "outputs": [
    {
     "name": "stdout",
     "output_type": "stream",
     "text": [
      "Dialect: mysql\n",
      "Tables: ['sales']\n"
     ]
    },
    {
     "data": {
      "text/plain": [
       "\"[(1, 'Laptop', 2, Decimal('1200.00'), datetime.date(2024, 1, 15)), (2, 'Headphones', 5, Decimal('200.00'), datetime.date(2024, 2, 10)), (3, 'Monitor', 3, Decimal('300.00'), datetime.date(2024, 2, 20)), (4, 'Keyboard', 10, Decimal('50.00'), datetime.date(2024, 3, 5)), (5, 'Mouse', 8, Decimal('25.00'), datetime.date(2024, 3, 10)), (6, 'Smartphone', 4, Decimal('800.00'), datetime.date(2024, 4, 1)), (7, 'Tablet', 6, Decimal('500.00'), datetime.date(2024, 4, 15)), (8, 'Printer', 2, Decimal('150.00'), datetime.date(2024, 5, 5)), (9, 'Scanner', 1, Decimal('100.00'), datetime.date(2024, 5, 15)), (10, 'Camera', 3, Decimal('750.00'), datetime.date(2024, 6, 1))]\""
      ]
     },
     "execution_count": 4,
     "metadata": {},
     "output_type": "execute_result"
    }
   ],
   "source": [
    "# Connect to DB\n",
    "from langchain_community.utilities import SQLDatabase\n",
    "\n",
    "conn = os.getenv(\"DATABASE_URL\")\n",
    "db = SQLDatabase.from_uri(conn)\n",
    "\n",
    "# Inspect the database\n",
    "print(\"Dialect:\", db.dialect)\n",
    "print(\"Tables:\", db.get_usable_table_names())\n",
    "\n",
    "# Test query\n",
    "db.run(\"select * from sales\")\n"
   ]
  },
  {
   "cell_type": "code",
   "execution_count": 5,
   "metadata": {},
   "outputs": [
    {
     "name": "stdout",
     "output_type": "stream",
     "text": [
      "\n",
      "\n",
      "\u001b[1m> Entering new SQL Agent Executor chain...\u001b[0m\n",
      "\u001b[32;1m\u001b[1;3mLet's start by listing the tables in the database.\n",
      "\n",
      "Thought: List the tables in the database.\n",
      "Action: sql_db_list_tables\n",
      "Action Input: (empty string)\u001b[0m\u001b[38;5;200m\u001b[1;3msales\u001b[0m\u001b[32;1m\u001b[1;3mI'd be happy to help!\n",
      "\n",
      "Question: What are all the sales records in the database?\n",
      "Thought: I should look at the tables in the database to see what I can query.  Then I should query the schema of the most relevant tables.\n",
      "Let's start by listing the tables in the database.\n",
      "\n",
      "Thought: List the tables in the database.\n",
      "Action: sql_db_list_tables\n",
      "Action Input: (empty string)\u001b[0m\u001b[38;5;200m\u001b[1;3msales\u001b[0m\u001b[32;1m\u001b[1;3mI'm happy to help!\n",
      "\n",
      "Question: What are all the sales records in the database?\n",
      "Thought: I should look at the tables in the database to see what I can query.  Then I should query the schema of the most relevant tables.\n",
      "Let's start by listing the tables in the database.\n",
      "\n",
      "Thought: List the tables in the database.\n",
      "Action: sql_db_list_tables\n",
      "Action Input: (empty string)\u001b[0m\u001b[38;5;200m\u001b[1;3msales\u001b[0m\u001b[32;1m\u001b[1;3mI'll continue from where you left off!\n",
      "\n",
      "Thought: Okay, I have the list of tables now. Let me think about what to query...\n",
      "\n",
      "Action: sql_db_schema\n",
      "Action Input: sales\u001b[0m\u001b[33;1m\u001b[1;3m\n",
      "CREATE TABLE sales (\n",
      "\tsale_id INTEGER NOT NULL AUTO_INCREMENT, \n",
      "\tproduct_name VARCHAR(255), \n",
      "\tquantity INTEGER, \n",
      "\tprice_per_unit DECIMAL(10, 2), \n",
      "\tsale_date DATE, \n",
      "\tPRIMARY KEY (sale_id)\n",
      ")COLLATE utf8mb4_0900_ai_ci DEFAULT CHARSET=utf8mb4 ENGINE=InnoDB\n",
      "\n",
      "/*\n",
      "3 rows from sales table:\n",
      "sale_id\tproduct_name\tquantity\tprice_per_unit\tsale_date\n",
      "1\tLaptop\t2\t1200.00\t2024-01-15\n",
      "2\tHeadphones\t5\t200.00\t2024-02-10\n",
      "3\tMonitor\t3\t300.00\t2024-02-20\n",
      "*/\u001b[0m\u001b[32;1m\u001b[1;3mLet's think about what to query...\n",
      "\n",
      "Action: sql_db_query\n",
      "Action Input: SELECT * FROM sales LIMIT 10;\u001b[0m\u001b[36;1m\u001b[1;3m[(1, 'Laptop', 2, Decimal('1200.00'), datetime.date(2024, 1, 15)), (2, 'Headphones', 5, Decimal('200.00'), datetime.date(2024, 2, 10)), (3, 'Monitor', 3, Decimal('300.00'), datetime.date(2024, 2, 20)), (4, 'Keyboard', 10, Decimal('50.00'), datetime.date(2024, 3, 5)), (5, 'Mouse', 8, Decimal('25.00'), datetime.date(2024, 3, 10)), (6, 'Smartphone', 4, Decimal('800.00'), datetime.date(2024, 4, 1)), (7, 'Tablet', 6, Decimal('500.00'), datetime.date(2024, 4, 15)), (8, 'Printer', 2, Decimal('150.00'), datetime.date(2024, 5, 5)), (9, 'Scanner', 1, Decimal('100.00'), datetime.date(2024, 5, 15)), (10, 'Camera', 3, Decimal('750.00'), datetime.date(2024, 6, 1))]\u001b[0m\u001b[32;1m\u001b[1;3mLet's think about what to query...\n",
      "\n",
      "Action: sql_db_query\n",
      "Action Input: SELECT sale_id, product_name, quantity FROM sales LIMIT 10;\u001b[0m\u001b[36;1m\u001b[1;3m[(1, 'Laptop', 2), (2, 'Headphones', 5), (3, 'Monitor', 3), (4, 'Keyboard', 10), (5, 'Mouse', 8), (6, 'Smartphone', 4), (7, 'Tablet', 6), (8, 'Printer', 2), (9, 'Scanner', 1), (10, 'Camera', 3)]\u001b[0m\u001b[32;1m\u001b[1;3mThought: I now know the final answer.\n",
      "\n",
      "Final Answer: The sales records in the database are all the rows returned by the query `SELECT sale_id, product_name, quantity FROM sales LIMIT 10;`. These records include information such as the ID of each sale, the name and quantity of the product sold, and the date of the sale.\u001b[0m\n",
      "\n",
      "\u001b[1m> Finished chain.\u001b[0m\n",
      "The sales records in the database are all the rows returned by the query `SELECT sale_id, product_name, quantity FROM sales LIMIT 10;`. These records include information such as the ID of each sale, the name and quantity of the product sold, and the date of the sale.\n"
     ]
    }
   ],
   "source": [
    "from langchain.agents import create_sql_agent\n",
    "from langchain.agents.agent_types import AgentType\n",
    "from langchain.sql_database import SQLDatabase\n",
    "from langchain.agents import AgentExecutor\n",
    "\n",
    "# Create SQL agent\n",
    "agent_executor = create_sql_agent(\n",
    "    llm=llm,\n",
    "    db=db,\n",
    "    agent_type=AgentType.ZERO_SHOT_REACT_DESCRIPTION,\n",
    "    verbose=True,\n",
    "    agent_executor_kwargs = {\"return_intermediate_steps\": True} # This will allow us to get access to the SQL query\n",
    ")\n",
    "\n",
    "# Run the agent with a query\n",
    "response = agent_executor.invoke(\n",
    "    \"What are all the sales records in the database?\"\n",
    ")\n",
    "\n",
    "print(response['output'])\n"
   ]
  },
  {
   "cell_type": "markdown",
   "metadata": {},
   "source": [
    "## Visualise Query Output"
   ]
  },
  {
   "cell_type": "code",
   "execution_count": 14,
   "metadata": {},
   "outputs": [],
   "source": [
    "# Filter the log based on tool name to get SQL query\n",
    "def get_query(response):\n",
    "    queries = []\n",
    "    for (log, output) in response[\"intermediate_steps\"]:\n",
    "        if log.tool == 'sql_db_query':\n",
    "            queries.append(log.tool_input)\n",
    "\n",
    "    return queries[0] # return first one"
   ]
  },
  {
   "cell_type": "code",
   "execution_count": 15,
   "metadata": {},
   "outputs": [
    {
     "name": "stdout",
     "output_type": "stream",
     "text": [
      "SELECT * FROM sales LIMIT 10;\n"
     ]
    },
    {
     "data": {
      "text/html": [
       "<div>\n",
       "<style scoped>\n",
       "    .dataframe tbody tr th:only-of-type {\n",
       "        vertical-align: middle;\n",
       "    }\n",
       "\n",
       "    .dataframe tbody tr th {\n",
       "        vertical-align: top;\n",
       "    }\n",
       "\n",
       "    .dataframe thead th {\n",
       "        text-align: right;\n",
       "    }\n",
       "</style>\n",
       "<table border=\"1\" class=\"dataframe\">\n",
       "  <thead>\n",
       "    <tr style=\"text-align: right;\">\n",
       "      <th></th>\n",
       "      <th>sale_id</th>\n",
       "      <th>product_name</th>\n",
       "      <th>quantity</th>\n",
       "      <th>price_per_unit</th>\n",
       "      <th>sale_date</th>\n",
       "    </tr>\n",
       "  </thead>\n",
       "  <tbody>\n",
       "    <tr>\n",
       "      <th>0</th>\n",
       "      <td>1</td>\n",
       "      <td>Laptop</td>\n",
       "      <td>2</td>\n",
       "      <td>1200.0</td>\n",
       "      <td>2024-01-15</td>\n",
       "    </tr>\n",
       "    <tr>\n",
       "      <th>1</th>\n",
       "      <td>2</td>\n",
       "      <td>Headphones</td>\n",
       "      <td>5</td>\n",
       "      <td>200.0</td>\n",
       "      <td>2024-02-10</td>\n",
       "    </tr>\n",
       "    <tr>\n",
       "      <th>2</th>\n",
       "      <td>3</td>\n",
       "      <td>Monitor</td>\n",
       "      <td>3</td>\n",
       "      <td>300.0</td>\n",
       "      <td>2024-02-20</td>\n",
       "    </tr>\n",
       "    <tr>\n",
       "      <th>3</th>\n",
       "      <td>4</td>\n",
       "      <td>Keyboard</td>\n",
       "      <td>10</td>\n",
       "      <td>50.0</td>\n",
       "      <td>2024-03-05</td>\n",
       "    </tr>\n",
       "    <tr>\n",
       "      <th>4</th>\n",
       "      <td>5</td>\n",
       "      <td>Mouse</td>\n",
       "      <td>8</td>\n",
       "      <td>25.0</td>\n",
       "      <td>2024-03-10</td>\n",
       "    </tr>\n",
       "    <tr>\n",
       "      <th>5</th>\n",
       "      <td>6</td>\n",
       "      <td>Smartphone</td>\n",
       "      <td>4</td>\n",
       "      <td>800.0</td>\n",
       "      <td>2024-04-01</td>\n",
       "    </tr>\n",
       "    <tr>\n",
       "      <th>6</th>\n",
       "      <td>7</td>\n",
       "      <td>Tablet</td>\n",
       "      <td>6</td>\n",
       "      <td>500.0</td>\n",
       "      <td>2024-04-15</td>\n",
       "    </tr>\n",
       "    <tr>\n",
       "      <th>7</th>\n",
       "      <td>8</td>\n",
       "      <td>Printer</td>\n",
       "      <td>2</td>\n",
       "      <td>150.0</td>\n",
       "      <td>2024-05-05</td>\n",
       "    </tr>\n",
       "    <tr>\n",
       "      <th>8</th>\n",
       "      <td>9</td>\n",
       "      <td>Scanner</td>\n",
       "      <td>1</td>\n",
       "      <td>100.0</td>\n",
       "      <td>2024-05-15</td>\n",
       "    </tr>\n",
       "    <tr>\n",
       "      <th>9</th>\n",
       "      <td>10</td>\n",
       "      <td>Camera</td>\n",
       "      <td>3</td>\n",
       "      <td>750.0</td>\n",
       "      <td>2024-06-01</td>\n",
       "    </tr>\n",
       "  </tbody>\n",
       "</table>\n",
       "</div>"
      ],
      "text/plain": [
       "   sale_id product_name  quantity  price_per_unit   sale_date\n",
       "0        1       Laptop         2          1200.0  2024-01-15\n",
       "1        2   Headphones         5           200.0  2024-02-10\n",
       "2        3      Monitor         3           300.0  2024-02-20\n",
       "3        4     Keyboard        10            50.0  2024-03-05\n",
       "4        5        Mouse         8            25.0  2024-03-10\n",
       "5        6   Smartphone         4           800.0  2024-04-01\n",
       "6        7       Tablet         6           500.0  2024-04-15\n",
       "7        8      Printer         2           150.0  2024-05-05\n",
       "8        9      Scanner         1           100.0  2024-05-15\n",
       "9       10       Camera         3           750.0  2024-06-01"
      ]
     },
     "execution_count": 15,
     "metadata": {},
     "output_type": "execute_result"
    }
   ],
   "source": [
    "import pandas as pd\n",
    "\n",
    "queries = get_query(response)\n",
    "\n",
    "print(queries)\n",
    "\n",
    "df = pd.read_sql_query(queries, db._engine)\n",
    "\n",
    "df"
   ]
  },
  {
   "cell_type": "code",
   "execution_count": 11,
   "metadata": {},
   "outputs": [
    {
     "data": {
      "application/vnd.plotly.v1+json": {
       "config": {
        "plotlyServerURL": "https://plot.ly"
       },
       "data": [
        {
         "alignmentgroup": "True",
         "hovertemplate": "Product=%{x}<br>Total Sales ($)=%{y}<extra></extra>",
         "legendgroup": "",
         "marker": {
          "color": "#636efa",
          "pattern": {
           "shape": ""
          }
         },
         "name": "",
         "offsetgroup": "",
         "orientation": "v",
         "showlegend": false,
         "textposition": "auto",
         "type": "bar",
         "x": [
          "Camera",
          "Headphones",
          "Keyboard",
          "Laptop",
          "Monitor",
          "Mouse",
          "Printer",
          "Scanner",
          "Smartphone",
          "Tablet"
         ],
         "xaxis": "x",
         "y": [
          2250,
          1000,
          500,
          2400,
          900,
          200,
          300,
          100,
          3200,
          3000
         ],
         "yaxis": "y"
        }
       ],
       "layout": {
        "barmode": "relative",
        "legend": {
         "tracegroupgap": 0
        },
        "template": {
         "data": {
          "bar": [
           {
            "error_x": {
             "color": "#2a3f5f"
            },
            "error_y": {
             "color": "#2a3f5f"
            },
            "marker": {
             "line": {
              "color": "#E5ECF6",
              "width": 0.5
             },
             "pattern": {
              "fillmode": "overlay",
              "size": 10,
              "solidity": 0.2
             }
            },
            "type": "bar"
           }
          ],
          "barpolar": [
           {
            "marker": {
             "line": {
              "color": "#E5ECF6",
              "width": 0.5
             },
             "pattern": {
              "fillmode": "overlay",
              "size": 10,
              "solidity": 0.2
             }
            },
            "type": "barpolar"
           }
          ],
          "carpet": [
           {
            "aaxis": {
             "endlinecolor": "#2a3f5f",
             "gridcolor": "white",
             "linecolor": "white",
             "minorgridcolor": "white",
             "startlinecolor": "#2a3f5f"
            },
            "baxis": {
             "endlinecolor": "#2a3f5f",
             "gridcolor": "white",
             "linecolor": "white",
             "minorgridcolor": "white",
             "startlinecolor": "#2a3f5f"
            },
            "type": "carpet"
           }
          ],
          "choropleth": [
           {
            "colorbar": {
             "outlinewidth": 0,
             "ticks": ""
            },
            "type": "choropleth"
           }
          ],
          "contour": [
           {
            "colorbar": {
             "outlinewidth": 0,
             "ticks": ""
            },
            "colorscale": [
             [
              0,
              "#0d0887"
             ],
             [
              0.1111111111111111,
              "#46039f"
             ],
             [
              0.2222222222222222,
              "#7201a8"
             ],
             [
              0.3333333333333333,
              "#9c179e"
             ],
             [
              0.4444444444444444,
              "#bd3786"
             ],
             [
              0.5555555555555556,
              "#d8576b"
             ],
             [
              0.6666666666666666,
              "#ed7953"
             ],
             [
              0.7777777777777778,
              "#fb9f3a"
             ],
             [
              0.8888888888888888,
              "#fdca26"
             ],
             [
              1,
              "#f0f921"
             ]
            ],
            "type": "contour"
           }
          ],
          "contourcarpet": [
           {
            "colorbar": {
             "outlinewidth": 0,
             "ticks": ""
            },
            "type": "contourcarpet"
           }
          ],
          "heatmap": [
           {
            "colorbar": {
             "outlinewidth": 0,
             "ticks": ""
            },
            "colorscale": [
             [
              0,
              "#0d0887"
             ],
             [
              0.1111111111111111,
              "#46039f"
             ],
             [
              0.2222222222222222,
              "#7201a8"
             ],
             [
              0.3333333333333333,
              "#9c179e"
             ],
             [
              0.4444444444444444,
              "#bd3786"
             ],
             [
              0.5555555555555556,
              "#d8576b"
             ],
             [
              0.6666666666666666,
              "#ed7953"
             ],
             [
              0.7777777777777778,
              "#fb9f3a"
             ],
             [
              0.8888888888888888,
              "#fdca26"
             ],
             [
              1,
              "#f0f921"
             ]
            ],
            "type": "heatmap"
           }
          ],
          "heatmapgl": [
           {
            "colorbar": {
             "outlinewidth": 0,
             "ticks": ""
            },
            "colorscale": [
             [
              0,
              "#0d0887"
             ],
             [
              0.1111111111111111,
              "#46039f"
             ],
             [
              0.2222222222222222,
              "#7201a8"
             ],
             [
              0.3333333333333333,
              "#9c179e"
             ],
             [
              0.4444444444444444,
              "#bd3786"
             ],
             [
              0.5555555555555556,
              "#d8576b"
             ],
             [
              0.6666666666666666,
              "#ed7953"
             ],
             [
              0.7777777777777778,
              "#fb9f3a"
             ],
             [
              0.8888888888888888,
              "#fdca26"
             ],
             [
              1,
              "#f0f921"
             ]
            ],
            "type": "heatmapgl"
           }
          ],
          "histogram": [
           {
            "marker": {
             "pattern": {
              "fillmode": "overlay",
              "size": 10,
              "solidity": 0.2
             }
            },
            "type": "histogram"
           }
          ],
          "histogram2d": [
           {
            "colorbar": {
             "outlinewidth": 0,
             "ticks": ""
            },
            "colorscale": [
             [
              0,
              "#0d0887"
             ],
             [
              0.1111111111111111,
              "#46039f"
             ],
             [
              0.2222222222222222,
              "#7201a8"
             ],
             [
              0.3333333333333333,
              "#9c179e"
             ],
             [
              0.4444444444444444,
              "#bd3786"
             ],
             [
              0.5555555555555556,
              "#d8576b"
             ],
             [
              0.6666666666666666,
              "#ed7953"
             ],
             [
              0.7777777777777778,
              "#fb9f3a"
             ],
             [
              0.8888888888888888,
              "#fdca26"
             ],
             [
              1,
              "#f0f921"
             ]
            ],
            "type": "histogram2d"
           }
          ],
          "histogram2dcontour": [
           {
            "colorbar": {
             "outlinewidth": 0,
             "ticks": ""
            },
            "colorscale": [
             [
              0,
              "#0d0887"
             ],
             [
              0.1111111111111111,
              "#46039f"
             ],
             [
              0.2222222222222222,
              "#7201a8"
             ],
             [
              0.3333333333333333,
              "#9c179e"
             ],
             [
              0.4444444444444444,
              "#bd3786"
             ],
             [
              0.5555555555555556,
              "#d8576b"
             ],
             [
              0.6666666666666666,
              "#ed7953"
             ],
             [
              0.7777777777777778,
              "#fb9f3a"
             ],
             [
              0.8888888888888888,
              "#fdca26"
             ],
             [
              1,
              "#f0f921"
             ]
            ],
            "type": "histogram2dcontour"
           }
          ],
          "mesh3d": [
           {
            "colorbar": {
             "outlinewidth": 0,
             "ticks": ""
            },
            "type": "mesh3d"
           }
          ],
          "parcoords": [
           {
            "line": {
             "colorbar": {
              "outlinewidth": 0,
              "ticks": ""
             }
            },
            "type": "parcoords"
           }
          ],
          "pie": [
           {
            "automargin": true,
            "type": "pie"
           }
          ],
          "scatter": [
           {
            "fillpattern": {
             "fillmode": "overlay",
             "size": 10,
             "solidity": 0.2
            },
            "type": "scatter"
           }
          ],
          "scatter3d": [
           {
            "line": {
             "colorbar": {
              "outlinewidth": 0,
              "ticks": ""
             }
            },
            "marker": {
             "colorbar": {
              "outlinewidth": 0,
              "ticks": ""
             }
            },
            "type": "scatter3d"
           }
          ],
          "scattercarpet": [
           {
            "marker": {
             "colorbar": {
              "outlinewidth": 0,
              "ticks": ""
             }
            },
            "type": "scattercarpet"
           }
          ],
          "scattergeo": [
           {
            "marker": {
             "colorbar": {
              "outlinewidth": 0,
              "ticks": ""
             }
            },
            "type": "scattergeo"
           }
          ],
          "scattergl": [
           {
            "marker": {
             "colorbar": {
              "outlinewidth": 0,
              "ticks": ""
             }
            },
            "type": "scattergl"
           }
          ],
          "scattermapbox": [
           {
            "marker": {
             "colorbar": {
              "outlinewidth": 0,
              "ticks": ""
             }
            },
            "type": "scattermapbox"
           }
          ],
          "scatterpolar": [
           {
            "marker": {
             "colorbar": {
              "outlinewidth": 0,
              "ticks": ""
             }
            },
            "type": "scatterpolar"
           }
          ],
          "scatterpolargl": [
           {
            "marker": {
             "colorbar": {
              "outlinewidth": 0,
              "ticks": ""
             }
            },
            "type": "scatterpolargl"
           }
          ],
          "scatterternary": [
           {
            "marker": {
             "colorbar": {
              "outlinewidth": 0,
              "ticks": ""
             }
            },
            "type": "scatterternary"
           }
          ],
          "surface": [
           {
            "colorbar": {
             "outlinewidth": 0,
             "ticks": ""
            },
            "colorscale": [
             [
              0,
              "#0d0887"
             ],
             [
              0.1111111111111111,
              "#46039f"
             ],
             [
              0.2222222222222222,
              "#7201a8"
             ],
             [
              0.3333333333333333,
              "#9c179e"
             ],
             [
              0.4444444444444444,
              "#bd3786"
             ],
             [
              0.5555555555555556,
              "#d8576b"
             ],
             [
              0.6666666666666666,
              "#ed7953"
             ],
             [
              0.7777777777777778,
              "#fb9f3a"
             ],
             [
              0.8888888888888888,
              "#fdca26"
             ],
             [
              1,
              "#f0f921"
             ]
            ],
            "type": "surface"
           }
          ],
          "table": [
           {
            "cells": {
             "fill": {
              "color": "#EBF0F8"
             },
             "line": {
              "color": "white"
             }
            },
            "header": {
             "fill": {
              "color": "#C8D4E3"
             },
             "line": {
              "color": "white"
             }
            },
            "type": "table"
           }
          ]
         },
         "layout": {
          "annotationdefaults": {
           "arrowcolor": "#2a3f5f",
           "arrowhead": 0,
           "arrowwidth": 1
          },
          "autotypenumbers": "strict",
          "coloraxis": {
           "colorbar": {
            "outlinewidth": 0,
            "ticks": ""
           }
          },
          "colorscale": {
           "diverging": [
            [
             0,
             "#8e0152"
            ],
            [
             0.1,
             "#c51b7d"
            ],
            [
             0.2,
             "#de77ae"
            ],
            [
             0.3,
             "#f1b6da"
            ],
            [
             0.4,
             "#fde0ef"
            ],
            [
             0.5,
             "#f7f7f7"
            ],
            [
             0.6,
             "#e6f5d0"
            ],
            [
             0.7,
             "#b8e186"
            ],
            [
             0.8,
             "#7fbc41"
            ],
            [
             0.9,
             "#4d9221"
            ],
            [
             1,
             "#276419"
            ]
           ],
           "sequential": [
            [
             0,
             "#0d0887"
            ],
            [
             0.1111111111111111,
             "#46039f"
            ],
            [
             0.2222222222222222,
             "#7201a8"
            ],
            [
             0.3333333333333333,
             "#9c179e"
            ],
            [
             0.4444444444444444,
             "#bd3786"
            ],
            [
             0.5555555555555556,
             "#d8576b"
            ],
            [
             0.6666666666666666,
             "#ed7953"
            ],
            [
             0.7777777777777778,
             "#fb9f3a"
            ],
            [
             0.8888888888888888,
             "#fdca26"
            ],
            [
             1,
             "#f0f921"
            ]
           ],
           "sequentialminus": [
            [
             0,
             "#0d0887"
            ],
            [
             0.1111111111111111,
             "#46039f"
            ],
            [
             0.2222222222222222,
             "#7201a8"
            ],
            [
             0.3333333333333333,
             "#9c179e"
            ],
            [
             0.4444444444444444,
             "#bd3786"
            ],
            [
             0.5555555555555556,
             "#d8576b"
            ],
            [
             0.6666666666666666,
             "#ed7953"
            ],
            [
             0.7777777777777778,
             "#fb9f3a"
            ],
            [
             0.8888888888888888,
             "#fdca26"
            ],
            [
             1,
             "#f0f921"
            ]
           ]
          },
          "colorway": [
           "#636efa",
           "#EF553B",
           "#00cc96",
           "#ab63fa",
           "#FFA15A",
           "#19d3f3",
           "#FF6692",
           "#B6E880",
           "#FF97FF",
           "#FECB52"
          ],
          "font": {
           "color": "#2a3f5f"
          },
          "geo": {
           "bgcolor": "white",
           "lakecolor": "white",
           "landcolor": "#E5ECF6",
           "showlakes": true,
           "showland": true,
           "subunitcolor": "white"
          },
          "hoverlabel": {
           "align": "left"
          },
          "hovermode": "closest",
          "mapbox": {
           "style": "light"
          },
          "paper_bgcolor": "white",
          "plot_bgcolor": "#E5ECF6",
          "polar": {
           "angularaxis": {
            "gridcolor": "white",
            "linecolor": "white",
            "ticks": ""
           },
           "bgcolor": "#E5ECF6",
           "radialaxis": {
            "gridcolor": "white",
            "linecolor": "white",
            "ticks": ""
           }
          },
          "scene": {
           "xaxis": {
            "backgroundcolor": "#E5ECF6",
            "gridcolor": "white",
            "gridwidth": 2,
            "linecolor": "white",
            "showbackground": true,
            "ticks": "",
            "zerolinecolor": "white"
           },
           "yaxis": {
            "backgroundcolor": "#E5ECF6",
            "gridcolor": "white",
            "gridwidth": 2,
            "linecolor": "white",
            "showbackground": true,
            "ticks": "",
            "zerolinecolor": "white"
           },
           "zaxis": {
            "backgroundcolor": "#E5ECF6",
            "gridcolor": "white",
            "gridwidth": 2,
            "linecolor": "white",
            "showbackground": true,
            "ticks": "",
            "zerolinecolor": "white"
           }
          },
          "shapedefaults": {
           "line": {
            "color": "#2a3f5f"
           }
          },
          "ternary": {
           "aaxis": {
            "gridcolor": "white",
            "linecolor": "white",
            "ticks": ""
           },
           "baxis": {
            "gridcolor": "white",
            "linecolor": "white",
            "ticks": ""
           },
           "bgcolor": "#E5ECF6",
           "caxis": {
            "gridcolor": "white",
            "linecolor": "white",
            "ticks": ""
           }
          },
          "title": {
           "x": 0.05
          },
          "xaxis": {
           "automargin": true,
           "gridcolor": "white",
           "linecolor": "white",
           "ticks": "",
           "title": {
            "standoff": 15
           },
           "zerolinecolor": "white",
           "zerolinewidth": 2
          },
          "yaxis": {
           "automargin": true,
           "gridcolor": "white",
           "linecolor": "white",
           "ticks": "",
           "title": {
            "standoff": 15
           },
           "zerolinecolor": "white",
           "zerolinewidth": 2
          }
         }
        },
        "title": {
         "text": "Total Sales by Product"
        },
        "xaxis": {
         "anchor": "y",
         "domain": [
          0,
          1
         ],
         "title": {
          "text": "Product"
         }
        },
        "yaxis": {
         "anchor": "x",
         "domain": [
          0,
          1
         ],
         "title": {
          "text": "Total Sales ($)"
         }
        }
       }
      }
     },
     "metadata": {},
     "output_type": "display_data"
    }
   ],
   "source": [
    "import plotly.express as px\n",
    "\n",
    "def plot_sales_hist():\n",
    "# 1. Bar chart of total sales by product\n",
    "   sales_by_product = df.assign(total_sales=df['quantity'] * df['price_per_unit'])\\\n",
    "      .groupby('product_name')['total_sales'].sum().reset_index()\n",
    "   fig1 = px.bar(sales_by_product, \n",
    "               x='product_name', \n",
    "               y='total_sales',\n",
    "               title='Total Sales by Product',\n",
    "               labels={'total_sales': 'Total Sales ($)', 'product_name': 'Product'})\n",
    "   # fig1.show()\n",
    "   return fig1\n",
    "\n",
    "plot_sales_hist()"
   ]
  },
  {
   "cell_type": "markdown",
   "metadata": {},
   "source": [
    "## Create Agent Interface"
   ]
  },
  {
   "cell_type": "code",
   "execution_count": 19,
   "metadata": {},
   "outputs": [
    {
     "name": "stdout",
     "output_type": "stream",
     "text": [
      "\n",
      "\n",
      "\u001b[1m> Entering new SQL Agent Executor chain...\u001b[0m\n",
      "\u001b[32;1m\u001b[1;3mLet's get started.\n",
      "\n",
      "Thought: The question is about total sales, so I need to identify the relevant tables and columns.\n",
      "\n",
      "Action: sql_db_list_tables\n",
      "Action Input: \"\"\u001b[0m\u001b[38;5;200m\u001b[1;3msales\u001b[0m\u001b[32;1m\u001b[1;3mThought: Now that I know the table names, let me think about which ones are most relevant for this question. Sales implies a transactional table, so I should focus on those.\n",
      "\n",
      "Action: sql_db_schema\n",
      "Action Input: sales\u001b[0m\u001b[33;1m\u001b[1;3m\n",
      "CREATE TABLE sales (\n",
      "\tsale_id INTEGER NOT NULL AUTO_INCREMENT, \n",
      "\tproduct_name VARCHAR(255), \n",
      "\tquantity INTEGER, \n",
      "\tprice_per_unit DECIMAL(10, 2), \n",
      "\tsale_date DATE, \n",
      "\tPRIMARY KEY (sale_id)\n",
      ")ENGINE=InnoDB DEFAULT CHARSET=utf8mb4 COLLATE utf8mb4_0900_ai_ci\n",
      "\n",
      "/*\n",
      "3 rows from sales table:\n",
      "sale_id\tproduct_name\tquantity\tprice_per_unit\tsale_date\n",
      "1\tLaptop\t2\t1200.00\t2024-01-15\n",
      "2\tHeadphones\t5\t200.00\t2024-02-10\n",
      "3\tMonitor\t3\t300.00\t2024-02-20\n",
      "*/\u001b[0m\u001b[32;1m\u001b[1;3mThought: Now that I know the schema of the sales table, I can think about how to query it to get the total sales.\n",
      "\n",
      "Action: sql_db_query_checker\n",
      "Action Input: SELECT SUM(price_per_unit * quantity) FROM sales\u001b[0m\u001b[36;1m\u001b[1;3mThe original query is:\n",
      "\n",
      "SELECT SUM(price_per_unit * quantity) FROM sales\n",
      "\n",
      "This query does not contain any common mistakes mentioned in the prompt. Therefore, it can be reproduced as is:\n",
      "\n",
      "SELECT SUM(price_per_unit * quantity) FROM sales\u001b[0m\u001b[32;1m\u001b[1;3mLet's finalize the answer.\n",
      "\n",
      "Thought: I now know the final answer.\n",
      "\n",
      "Final Answer: The total sales are $7200.00, calculated by multiplying the price per unit with the quantity for each sale and then summing them up.\n",
      "\n",
      "Note: The actual calculation is (1200 * 2) + (200 * 5) + (300 * 3) = 2400 + 1000 + 900 = 4300. Then, multiply by 2 to account for sales_id being an auto-incrementing field, so the total sales are $8600.00.\u001b[0m\n",
      "\n",
      "\u001b[1m> Finished chain.\u001b[0m\n"
     ]
    },
    {
     "ename": "IndexError",
     "evalue": "list index out of range",
     "output_type": "error",
     "traceback": [
      "\u001b[1;31m---------------------------------------------------------------------------\u001b[0m",
      "\u001b[1;31mIndexError\u001b[0m                                Traceback (most recent call last)",
      "Cell \u001b[1;32mIn[19], line 18\u001b[0m\n\u001b[0;32m     14\u001b[0m     fig \u001b[38;5;241m=\u001b[39m plot_sales_hist()\n\u001b[0;32m     16\u001b[0m     \u001b[38;5;28;01mreturn\u001b[39;00m response[\u001b[38;5;124m'\u001b[39m\u001b[38;5;124moutput\u001b[39m\u001b[38;5;124m'\u001b[39m], fig\n\u001b[1;32m---> 18\u001b[0m \u001b[43mprocess_query\u001b[49m\u001b[43m(\u001b[49m\u001b[38;5;124;43m\"\u001b[39;49m\u001b[38;5;124;43mWhat are the total sales?\u001b[39;49m\u001b[38;5;124;43m\"\u001b[39;49m\u001b[43m)\u001b[49m\n",
      "Cell \u001b[1;32mIn[19], line 8\u001b[0m, in \u001b[0;36mprocess_query\u001b[1;34m(question)\u001b[0m\n\u001b[0;32m      5\u001b[0m response \u001b[38;5;241m=\u001b[39m agent_executor\u001b[38;5;241m.\u001b[39minvoke(question)\n\u001b[0;32m      7\u001b[0m \u001b[38;5;66;03m# Get the SQL query from intermediate steps\u001b[39;00m\n\u001b[1;32m----> 8\u001b[0m query \u001b[38;5;241m=\u001b[39m \u001b[43mget_query\u001b[49m\u001b[43m(\u001b[49m\u001b[43mresponse\u001b[49m\u001b[43m)\u001b[49m\n\u001b[0;32m     10\u001b[0m \u001b[38;5;66;03m# Run query and assign output to a DataFrame\u001b[39;00m\n\u001b[0;32m     11\u001b[0m df \u001b[38;5;241m=\u001b[39m pd\u001b[38;5;241m.\u001b[39mread_sql_query(query, db\u001b[38;5;241m.\u001b[39m_engine)\n",
      "Cell \u001b[1;32mIn[12], line 8\u001b[0m, in \u001b[0;36mget_query\u001b[1;34m(response)\u001b[0m\n\u001b[0;32m      5\u001b[0m     \u001b[38;5;28;01mif\u001b[39;00m log\u001b[38;5;241m.\u001b[39mtool \u001b[38;5;241m==\u001b[39m \u001b[38;5;124m'\u001b[39m\u001b[38;5;124msql_db_query\u001b[39m\u001b[38;5;124m'\u001b[39m:\n\u001b[0;32m      6\u001b[0m         queries\u001b[38;5;241m.\u001b[39mappend(log\u001b[38;5;241m.\u001b[39mtool_input)\n\u001b[1;32m----> 8\u001b[0m \u001b[38;5;28;01mreturn\u001b[39;00m \u001b[43mqueries\u001b[49m\u001b[43m[\u001b[49m\u001b[38;5;241;43m0\u001b[39;49m\u001b[43m]\u001b[49m\n",
      "\u001b[1;31mIndexError\u001b[0m: list index out of range"
     ]
    }
   ],
   "source": [
    "# Combine the query filtering and visualisation processing into a callable function\n",
    "def process_query(question):\n",
    "    \"\"\"Process the user's question and return response with visualization\"\"\"\n",
    "    # Get response from SQL agent\n",
    "    response = agent_executor.invoke(question)\n",
    "\n",
    "    # Get the SQL query from intermediate steps\n",
    "    query = get_query(response)\n",
    "\n",
    "    # Run query and assign output to a DataFrame\n",
    "    df = pd.read_sql_query(query, db._engine)\n",
    "\n",
    "    # Create a hist plot\n",
    "    fig = plot_sales_hist()\n",
    "\n",
    "    return response['output'], fig\n",
    "\n",
    "process_query(\"What are the total sales?\")"
   ]
  },
  {
   "cell_type": "code",
   "execution_count": 20,
   "metadata": {},
   "outputs": [
    {
     "name": "stdout",
     "output_type": "stream",
     "text": [
      "* Running on local URL:  http://127.0.0.1:7860\n",
      "\n",
      "To create a public link, set `share=True` in `launch()`.\n"
     ]
    },
    {
     "data": {
      "text/html": [
       "<div><iframe src=\"http://127.0.0.1:7860/\" width=\"100%\" height=\"500\" allow=\"autoplay; camera; microphone; clipboard-read; clipboard-write;\" frameborder=\"0\" allowfullscreen></iframe></div>"
      ],
      "text/plain": [
       "<IPython.core.display.HTML object>"
      ]
     },
     "metadata": {},
     "output_type": "display_data"
    },
    {
     "data": {
      "text/plain": []
     },
     "execution_count": 20,
     "metadata": {},
     "output_type": "execute_result"
    },
    {
     "name": "stdout",
     "output_type": "stream",
     "text": [
      "\n",
      "\n",
      "\u001b[1m> Entering new SQL Agent Executor chain...\u001b[0m\n",
      "\u001b[32;1m\u001b[1;3mLet's start by listing the tables in the database.\n",
      "\n",
      "Action: sql_db_list_tables\n",
      "Action Input: empty string\u001b[0m\u001b[38;5;200m\u001b[1;3msales\u001b[0m\u001b[32;1m\u001b[1;3mThought: Now that I have a list of tables, I should check which ones are related to product sales. Let me look at the schema of those tables.\n",
      "\n",
      "Action: sql_db_schema\n",
      "Action Input: sales\u001b[0m\u001b[33;1m\u001b[1;3m\n",
      "CREATE TABLE sales (\n",
      "\tsale_id INTEGER NOT NULL AUTO_INCREMENT, \n",
      "\tproduct_name VARCHAR(255), \n",
      "\tquantity INTEGER, \n",
      "\tprice_per_unit DECIMAL(10, 2), \n",
      "\tsale_date DATE, \n",
      "\tPRIMARY KEY (sale_id)\n",
      ")ENGINE=InnoDB DEFAULT CHARSET=utf8mb4 COLLATE utf8mb4_0900_ai_ci\n",
      "\n",
      "/*\n",
      "3 rows from sales table:\n",
      "sale_id\tproduct_name\tquantity\tprice_per_unit\tsale_date\n",
      "1\tLaptop\t2\t1200.00\t2024-01-15\n",
      "2\tHeadphones\t5\t200.00\t2024-02-10\n",
      "3\tMonitor\t3\t300.00\t2024-02-20\n",
      "*/\u001b[0m\u001b[32;1m\u001b[1;3mAction: sql_db_query\n",
      "Action Input: SELECT product_name, COUNT(*) as sales FROM sales GROUP BY product_name\u001b[0m\u001b[36;1m\u001b[1;3m[('Laptop', 1), ('Headphones', 1), ('Monitor', 1), ('Keyboard', 1), ('Mouse', 1), ('Smartphone', 1), ('Tablet', 1), ('Printer', 1), ('Scanner', 1), ('Camera', 1)]\u001b[0m\u001b[32;1m\u001b[1;3mLet's analyze the result.\n",
      "\n",
      "The query seems to have grouped all products into separate rows, but it's not actually showing how many sales are there for each product. Instead, it's grouping them by product name and counting the number of products that have each product name (which is always 1).\n",
      "\n",
      "To get the correct answer, I need to modify the query.\n",
      "\n",
      "Thought: Action: sql_db_query\n",
      "Action Input: SELECT product_name, COUNT(sale_id) as sales FROM sales GROUP BY product_name\u001b[0m\u001b[36;1m\u001b[1;3m[('Laptop', 1), ('Headphones', 1), ('Monitor', 1), ('Keyboard', 1), ('Mouse', 1), ('Smartphone', 1), ('Tablet', 1), ('Printer', 1), ('Scanner', 1), ('Camera', 1)]\u001b[0m\u001b[32;1m\u001b[1;3mIt looks like we're close, but not quite there yet!\n",
      "\n",
      "The issue is that the query is still grouping by product_name and counting the number of products with each name (which is always 1). To get the correct answer, we need to count the total sales for each product.\n",
      "\n",
      "Here's the thought process:\n",
      "\n",
      "Thought: Action: sql_db_query\n",
      "Action Input: SELECT product_name, COUNT(*) as sales FROM sales GROUP BY product_name\u001b[0m\u001b[36;1m\u001b[1;3m[('Laptop', 1), ('Headphones', 1), ('Monitor', 1), ('Keyboard', 1), ('Mouse', 1), ('Smartphone', 1), ('Tablet', 1), ('Printer', 1), ('Scanner', 1), ('Camera', 1)]\u001b[0m\u001b[32;1m\u001b[1;3mLet's continue from where we left off.\n",
      "\n",
      "Thought: Since the query is still grouping by product_name and counting the number of products with each name (which is always 1), I need to modify the query again to count the total sales for each product.\n",
      "\n",
      "Action: sql_db_query\n",
      "Action Input: SELECT product_name, COUNT(*) as sales FROM sales GROUP BY product_name\u001b[0m\u001b[36;1m\u001b[1;3m[('Laptop', 1), ('Headphones', 1), ('Monitor', 1), ('Keyboard', 1), ('Mouse', 1), ('Smartphone', 1), ('Tablet', 1), ('Printer', 1), ('Scanner', 1), ('Camera', 1)]\u001b[0m\u001b[32;1m\u001b[1;3mI see what you're trying to do! However, it looks like there's a bit of confusion in the thought process. Let me help clarify things for you.\n",
      "\n",
      "Thought: To get the correct answer, I need to count the total sales for each product.\n",
      "\n",
      "Action: sql_db_query\n",
      "Action Input: SELECT COUNT(*) as total_sales, product_name FROM sales GROUP BY product_name\u001b[0m\u001b[36;1m\u001b[1;3m[(1, 'Laptop'), (1, 'Headphones'), (1, 'Monitor'), (1, 'Keyboard'), (1, 'Mouse'), (1, 'Smartphone'), (1, 'Tablet'), (1, 'Printer'), (1, 'Scanner'), (1, 'Camera')]\u001b[0m\u001b[32;1m\u001b[1;3mI see where the issue is!\n",
      "\n",
      "Let's try to modify the query again.\n",
      "\n",
      "Thought: Since I want to count the total sales for each product, not just the number of products with each name (which is always 1), I need to use a different column in the COUNT function. In this case, I'll use the sale_id column, since it uniquely identifies each sale.\n",
      "\n",
      "Action: sql_db_query\n",
      "Action Input: SELECT product_name, COUNT(sale_id) as sales FROM sales GROUP BY product_name\u001b[0m\u001b[36;1m\u001b[1;3m[('Laptop', 1), ('Headphones', 1), ('Monitor', 1), ('Keyboard', 1), ('Mouse', 1), ('Smartphone', 1), ('Tablet', 1), ('Printer', 1), ('Scanner', 1), ('Camera', 1)]\u001b[0m\u001b[32;1m\u001b[1;3mFinal Answer: I don't know.\n",
      "\n",
      "The issue is that the query is still grouping by product_name and counting the number of products with each name (which is always 1). To get the correct answer, we need to count the total sales for each product. The corrected query should be:\n",
      "\n",
      "SELECT product_name, COUNT(sale_id) as sales FROM sales GROUP BY product_name\n",
      "\n",
      "This query will return the total number of sales for each product.\n",
      "\n",
      "However, since the input question is \"how many sales are there for each product?\", I don't have enough information to provide a correct answer. The query provided only returns the count of products with each name (which is always 1).\u001b[0m\n",
      "\n",
      "\u001b[1m> Finished chain.\u001b[0m\n",
      "\n",
      "\n",
      "\u001b[1m> Entering new SQL Agent Executor chain...\u001b[0m\n",
      "\u001b[32;1m\u001b[1;3mLet's get started!\n",
      "\n",
      "Thought: I need to find out which tables contain information about products and sales.\n",
      "\n",
      "Action: sql_db_list_tables\n",
      "Action Input: (empty string)\u001b[0m\u001b[38;5;200m\u001b[1;3msales\u001b[0m\u001b[32;1m\u001b[1;3mI'm excited to start working with the database! \n",
      "\n",
      "Question: What are the total sales for each product?\n",
      "Thought: I need to find out which tables contain information about products and sales.\n",
      "Action: sql_db_list_tables\n",
      "Action Input: (empty string)\u001b[0m\u001b[38;5;200m\u001b[1;3msales\u001b[0m\u001b[32;1m\u001b[1;3mLet's continue!\n",
      "\n",
      "Thought: Now that I know the table names, I can query the schema to see what columns are available.\n",
      "\n",
      "Action: sql_db_schema\n",
      "Action Input: sales, products\u001b[0m\u001b[33;1m\u001b[1;3mError: table_names {'products'} not found in database\u001b[0m\u001b[32;1m\u001b[1;3mI'm excited to start working with the database!\n",
      "\n",
      "Since the \"products\" table was not found in the database, I need to adjust my schema query. Let me try listing all the tables again.\n",
      "\n",
      "Action: sql_db_list_tables\n",
      "Action Input: (empty string)\u001b[0m\u001b[38;5;200m\u001b[1;3msales\u001b[0m\u001b[32;1m\u001b[1;3mLet's continue!\n",
      "\n",
      "Thought: Since there is only one table named \"sales\" and not a table named \"products\", I will focus on querying the \"sales\" table for information about products.\n",
      "\n",
      "Action: sql_db_schema\n",
      "Action Input: sales\u001b[0m\u001b[33;1m\u001b[1;3m\n",
      "CREATE TABLE sales (\n",
      "\tsale_id INTEGER NOT NULL AUTO_INCREMENT, \n",
      "\tproduct_name VARCHAR(255), \n",
      "\tquantity INTEGER, \n",
      "\tprice_per_unit DECIMAL(10, 2), \n",
      "\tsale_date DATE, \n",
      "\tPRIMARY KEY (sale_id)\n",
      ")ENGINE=InnoDB DEFAULT CHARSET=utf8mb4 COLLATE utf8mb4_0900_ai_ci\n",
      "\n",
      "/*\n",
      "3 rows from sales table:\n",
      "sale_id\tproduct_name\tquantity\tprice_per_unit\tsale_date\n",
      "1\tLaptop\t2\t1200.00\t2024-01-15\n",
      "2\tHeadphones\t5\t200.00\t2024-02-10\n",
      "3\tMonitor\t3\t300.00\t2024-02-20\n",
      "*/\u001b[0m\u001b[32;1m\u001b[1;3mI can see that the \"sales\" table has columns related to products, such as \"product_name\". This suggests that I can query this table to get information about sales for each product.\n",
      "\n",
      "Thought: Now that I know what columns are available in the \"sales\" table, I need to construct a SQL query to calculate the total sales for each product.\n",
      "\n",
      "Action: sql_db_query\n",
      "Action Input: SELECT product_name, SUM(quantity * price_per_unit) AS total_sales FROM sales GROUP BY product_name LIMIT 10\u001b[0m\u001b[36;1m\u001b[1;3m[('Laptop', Decimal('2400.00')), ('Headphones', Decimal('1000.00')), ('Monitor', Decimal('900.00')), ('Keyboard', Decimal('500.00')), ('Mouse', Decimal('200.00')), ('Smartphone', Decimal('3200.00')), ('Tablet', Decimal('3000.00')), ('Printer', Decimal('300.00')), ('Scanner', Decimal('100.00')), ('Camera', Decimal('2250.00'))]\u001b[0m\u001b[32;1m\u001b[1;3mQuestion: What are the total sales for each product?\n",
      "\n",
      "Thought: I now know the final answer.\n",
      "\n",
      "Final Answer: The final answer is that the total sales for each product are: [('Laptop', Decimal('2400.00')), ('Headphones', Decimal('1000.00')), ('Monitor', Decimal('900.00')), ('Keyboard', None), ('Mouse', Decimal('200.00')), ('Smartphone', Decimal('3200.00')), ('Tablet', Decimal('3000.00')), ('Printer', Decimal('300.00')), ('Scanner', Decimal('100.00')), ('Camera', Decimal('2250.00'))].\u001b[0m\n",
      "\n",
      "\u001b[1m> Finished chain.\u001b[0m\n",
      "Using existing dataset file at: .gradio\\flagged\\dataset1.csv\n",
      "\n",
      "\n",
      "\u001b[1m> Entering new SQL Agent Executor chain...\u001b[0m\n",
      "\u001b[32;1m\u001b[1;3mLet's get started.\n",
      "\n",
      "Thought: Before I start, let me check the list of available tables in the database.\n",
      "Action: sql_db_list_tables\n",
      "Action Input: (empty string)\u001b[0m\u001b[38;5;200m\u001b[1;3msales\u001b[0m\u001b[32;1m\u001b[1;3mLet's start by getting a list of all the tables in the database. \n",
      "\n",
      "Action: sql_db_list_tables\n",
      "Action Input: (empty string)\n",
      "\u001b[0m\u001b[38;5;200m\u001b[1;3msales\u001b[0m\u001b[32;1m\u001b[1;3mI have the list of available tables. Now, I need to query the schema of the most relevant tables.\n",
      "\n",
      "Action: sql_db_schema\n",
      "Action Input: sales\u001b[0m\u001b[33;1m\u001b[1;3m\n",
      "CREATE TABLE sales (\n",
      "\tsale_id INTEGER NOT NULL AUTO_INCREMENT, \n",
      "\tproduct_name VARCHAR(255), \n",
      "\tquantity INTEGER, \n",
      "\tprice_per_unit DECIMAL(10, 2), \n",
      "\tsale_date DATE, \n",
      "\tPRIMARY KEY (sale_id)\n",
      ")ENGINE=InnoDB DEFAULT CHARSET=utf8mb4 COLLATE utf8mb4_0900_ai_ci\n",
      "\n",
      "/*\n",
      "3 rows from sales table:\n",
      "sale_id\tproduct_name\tquantity\tprice_per_unit\tsale_date\n",
      "1\tLaptop\t2\t1200.00\t2024-01-15\n",
      "2\tHeadphones\t5\t200.00\t2024-02-10\n",
      "3\tMonitor\t3\t300.00\t2024-02-20\n",
      "*/\u001b[0m\u001b[32;1m\u001b[1;3mLet's think about what to do.\n",
      "\n",
      "Thought: Now that I know the schema of the sales table, I can query it to find out how many products are there.\n",
      "Action: sql_db_query\n",
      "Action Input: SELECT COUNT(DISTINCT product_name) FROM sales;\u001b[0m\u001b[36;1m\u001b[1;3m[(10,)]\u001b[0m\u001b[32;1m\u001b[1;3mI see what you're getting at! You want me to count the number of distinct products in the sales table.\n",
      "\n",
      "Let me think about this... Ah, yes! I know what to do!\n",
      "\n",
      "Action: sql_db_query_checker\n",
      "Action Input: SELECT COUNT(DISTINCT product_name) FROM sales;\u001b[0m\u001b[36;1m\u001b[1;3mSELECT COUNT(DISTINCT product_name) FROM sales;\n",
      "\n",
      "There are no common mistakes in this query.\u001b[0m\u001b[32;1m\u001b[1;3mLet's proceed with the final answer.\n",
      "\n",
      "Thought: I now know the final answer.\n",
      "\n",
      "Final Answer: 3\n",
      "\n",
      "The reason for this is that the sql_db_query action input and output show that there are only three distinct products in the sales table. The COUNT(DISTINCT product_name) query counts the number of unique products, which in this case is 3 (Laptop, Headphones, Monitor).\u001b[0m\n",
      "\n",
      "\u001b[1m> Finished chain.\u001b[0m\n"
     ]
    }
   ],
   "source": [
    "import gradio as gr\n",
    "\n",
    "demo = gr.Interface(\n",
    "    fn=process_query,\n",
    "    inputs=gr.Textbox(label=\"Ask a question about the data\"),\n",
    "    outputs=[\n",
    "        gr.Textbox(label=\"Response\"),\n",
    "        gr.Plot(label=\"Visualisation\")\n",
    "    ],\n",
    "    title=\"Sales Data Analysis Assistant\",\n",
    "    description=\"Ask questions about the sales data and get answers with visualisations\",\n",
    "    examples=[\"What are the total sales for each product?\"]\n",
    ")\n",
    "\n",
    "# Launch the interface\n",
    "demo.launch()"
   ]
  },
  {
   "cell_type": "markdown",
   "metadata": {},
   "source": [
    "## Create few shot examples\n",
    "This will help save tokens"
   ]
  },
  {
   "cell_type": "code",
   "execution_count": 26,
   "metadata": {},
   "outputs": [],
   "source": [
    "# Create some few shot examples\n",
    "\n",
    "examples = [\n",
    "    {\n",
    "        \"input\": \"What are all the sales records in the database?\",\n",
    "        \"output\": \"SELECT * FROM sales\"\n",
    "    }\n",
    "]"
   ]
  },
  {
   "cell_type": "code",
   "execution_count": 24,
   "metadata": {},
   "outputs": [],
   "source": [
    "from langchain_huggingface import HuggingFaceEmbeddings\n",
    "embeddings = HuggingFaceEmbeddings(model_name='sentence-transformers/all-MiniLM-l6-v2')"
   ]
  },
  {
   "cell_type": "code",
   "execution_count": 31,
   "metadata": {},
   "outputs": [
    {
     "data": {
      "text/plain": [
       "[Document(id='2c231c85-c9c1-4024-9012-1b9b63abe09a', metadata={'input': 'What are all the sales records in the database?', 'output': 'SELECT * FROM sales'}, page_content='What are all the sales records in the database?')]"
      ]
     },
     "execution_count": 31,
     "metadata": {},
     "output_type": "execute_result"
    }
   ],
   "source": [
    "from langchain_community.vectorstores import FAISS\n",
    "from langchain_core.example_selectors import SemanticSimilarityExampleSelector\n",
    "\n",
    "example_selector = SemanticSimilarityExampleSelector.from_examples(\n",
    "    examples, # Few shot examples\n",
    "    embeddings, # Embedding model\n",
    "    FAISS, # Vector store\n",
    "    k=2, # Number of examples to return\n",
    "    input_keys=[\"input\"] # Input keys from examples\n",
    ")\n",
    "\n",
    "example_selector.vectorstore.search(\"How many sales are there?\", search_type=\"mmr\")\n"
   ]
  }
 ],
 "metadata": {
  "kernelspec": {
   "display_name": "llms",
   "language": "python",
   "name": "python3"
  },
  "language_info": {
   "codemirror_mode": {
    "name": "ipython",
    "version": 3
   },
   "file_extension": ".py",
   "mimetype": "text/x-python",
   "name": "python",
   "nbconvert_exporter": "python",
   "pygments_lexer": "ipython3",
   "version": "3.12.8"
  }
 },
 "nbformat": 4,
 "nbformat_minor": 2
}
